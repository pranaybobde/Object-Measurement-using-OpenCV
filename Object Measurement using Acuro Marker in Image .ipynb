{
 "cells": [
  {
   "cell_type": "code",
   "execution_count": 1,
   "id": "3932a272",
   "metadata": {},
   "outputs": [
    {
     "name": "stdout",
     "output_type": "stream",
     "text": [
      "Requirement already satisfied: opencv-contrib-python in c:\\users\\hp\\anaconda3\\lib\\site-packages (4.5.4.58)\n",
      "Requirement already satisfied: numpy>=1.17.3 in c:\\users\\hp\\anaconda3\\lib\\site-packages (from opencv-contrib-python) (1.20.1)\n",
      "Note: you may need to restart the kernel to use updated packages.\n"
     ]
    }
   ],
   "source": [
    "pip install opencv-contrib-python"
   ]
  },
  {
   "cell_type": "code",
   "execution_count": 2,
   "id": "2261a4fb",
   "metadata": {},
   "outputs": [],
   "source": [
    "import cv2\n",
    "from object_detector import *\n",
    "import numpy as np"
   ]
  },
  {
   "cell_type": "code",
   "execution_count": 3,
   "id": "ab9ee32e",
   "metadata": {},
   "outputs": [],
   "source": [
    "# Load Aruco detector\n",
    "parameters = cv2.aruco.DetectorParameters_create()\n",
    "aruco_dict = cv2.aruco.Dictionary_get(cv2.aruco.DICT_5X5_50)\n"
   ]
  },
  {
   "cell_type": "code",
   "execution_count": 4,
   "id": "40a365ba",
   "metadata": {},
   "outputs": [],
   "source": [
    "# Load Object Detector\n",
    "detector = HomogeneousBgDetector()"
   ]
  },
  {
   "cell_type": "code",
   "execution_count": 5,
   "id": "04b07505",
   "metadata": {},
   "outputs": [],
   "source": [
    "# Load Image\n",
    "img = cv2.imread(\"phone_aruco_marker.jpg\")"
   ]
  },
  {
   "cell_type": "code",
   "execution_count": 6,
   "id": "c0f524a7",
   "metadata": {},
   "outputs": [],
   "source": [
    "# Get Aruco marker\n",
    "corners, _, _ = cv2.aruco.detectMarkers(img, aruco_dict, parameters=parameters)"
   ]
  },
  {
   "cell_type": "code",
   "execution_count": 7,
   "id": "e9e3b46c",
   "metadata": {},
   "outputs": [
    {
     "data": {
      "text/plain": [
       "array([[[159, 158, 160],\n",
       "        [159, 158, 160],\n",
       "        [159, 158, 160],\n",
       "        ...,\n",
       "        [169, 170, 168],\n",
       "        [169, 170, 168],\n",
       "        [169, 170, 168]],\n",
       "\n",
       "       [[156, 155, 157],\n",
       "        [157, 156, 158],\n",
       "        [158, 157, 159],\n",
       "        ...,\n",
       "        [169, 170, 168],\n",
       "        [169, 170, 168],\n",
       "        [169, 170, 168]],\n",
       "\n",
       "       [[154, 153, 155],\n",
       "        [155, 154, 156],\n",
       "        [156, 155, 157],\n",
       "        ...,\n",
       "        [168, 168, 168],\n",
       "        [169, 170, 168],\n",
       "        [169, 170, 168]],\n",
       "\n",
       "       ...,\n",
       "\n",
       "       [[162, 163, 167],\n",
       "        [162, 163, 167],\n",
       "        [163, 164, 168],\n",
       "        ...,\n",
       "        [163, 160, 156],\n",
       "        [163, 160, 156],\n",
       "        [163, 160, 156]],\n",
       "\n",
       "       [[163, 163, 169],\n",
       "        [162, 162, 168],\n",
       "        [162, 163, 167],\n",
       "        ...,\n",
       "        [163, 160, 156],\n",
       "        [163, 160, 156],\n",
       "        [163, 160, 156]],\n",
       "\n",
       "       [[164, 164, 170],\n",
       "        [163, 163, 169],\n",
       "        [162, 163, 167],\n",
       "        ...,\n",
       "        [163, 160, 156],\n",
       "        [163, 160, 156],\n",
       "        [164, 161, 157]]], dtype=uint8)"
      ]
     },
     "execution_count": 7,
     "metadata": {},
     "output_type": "execute_result"
    }
   ],
   "source": [
    "# Draw polygon around the marker\n",
    "int_corners = np.int0(corners)\n",
    "cv2.polylines(img, int_corners, True, (0, 255, 0), 5)"
   ]
  },
  {
   "cell_type": "code",
   "execution_count": 8,
   "id": "feda11af",
   "metadata": {},
   "outputs": [],
   "source": [
    "# Aruco Perimeter\n",
    "aruco_perimeter = cv2.arcLength(corners[0], True)"
   ]
  },
  {
   "cell_type": "code",
   "execution_count": 9,
   "id": "9e49c9bd",
   "metadata": {},
   "outputs": [],
   "source": [
    "# Pixel to cm ratio\n",
    "pixel_cm_ratio = aruco_perimeter / 20"
   ]
  },
  {
   "cell_type": "code",
   "execution_count": 10,
   "id": "7aad0219",
   "metadata": {},
   "outputs": [],
   "source": [
    "contours = detector.detect_objects(img)"
   ]
  },
  {
   "cell_type": "code",
   "execution_count": 11,
   "id": "0ea41ce5",
   "metadata": {},
   "outputs": [
    {
     "data": {
      "text/plain": [
       "-1"
      ]
     },
     "execution_count": 11,
     "metadata": {},
     "output_type": "execute_result"
    }
   ],
   "source": [
    "# Draw objects boundaries\n",
    "for cnt in contours:\n",
    "    # Get rect\n",
    "    rect = cv2.minAreaRect(cnt)\n",
    "    (x, y), (w, h), angle = rect\n",
    "\n",
    "    # Get Width and Height of the Objects by applying the Ratio pixel to cm\n",
    "    object_width = w / pixel_cm_ratio\n",
    "    object_height = h / pixel_cm_ratio\n",
    "\n",
    "    # Display rectangle\n",
    "    box = cv2.boxPoints(rect)\n",
    "    box = np.int0(box)\n",
    "\n",
    "    cv2.circle(img, (int(x), int(y)), 5, (0, 0, 255), -1)\n",
    "    cv2.polylines(img, [box], True, (255, 0, 0), 2)\n",
    "    cv2.putText(img, \"Width {} cm\".format(round(object_width, 1)), (int(x - 100), int(y - 20)), cv2.FONT_HERSHEY_PLAIN, 2, (100, 200, 0), 2)\n",
    "    cv2.putText(img, \"Height {} cm\".format(round(object_height, 1)), (int(x - 100), int(y + 15)), cv2.FONT_HERSHEY_PLAIN, 2, (100, 200, 0), 2)\n",
    "\n",
    "\n",
    "\n",
    "cv2.imshow(\"Image\", img)\n",
    "cv2.waitKey(0)"
   ]
  },
  {
   "cell_type": "code",
   "execution_count": null,
   "id": "5cbcb877",
   "metadata": {},
   "outputs": [],
   "source": []
  }
 ],
 "metadata": {
  "kernelspec": {
   "display_name": "Python 3",
   "language": "python",
   "name": "python3"
  },
  "language_info": {
   "codemirror_mode": {
    "name": "ipython",
    "version": 3
   },
   "file_extension": ".py",
   "mimetype": "text/x-python",
   "name": "python",
   "nbconvert_exporter": "python",
   "pygments_lexer": "ipython3",
   "version": "3.8.8"
  }
 },
 "nbformat": 4,
 "nbformat_minor": 5
}
