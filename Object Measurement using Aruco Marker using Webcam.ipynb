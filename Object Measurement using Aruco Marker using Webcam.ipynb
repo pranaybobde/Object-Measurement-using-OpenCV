{
 "cells": [
  {
   "cell_type": "code",
   "execution_count": 1,
   "id": "ee3d51f5",
   "metadata": {},
   "outputs": [
    {
     "name": "stdout",
     "output_type": "stream",
     "text": [
      "Requirement already satisfied: opencv-contrib-python in c:\\users\\hp\\anaconda3\\lib\\site-packages (4.5.4.58)\n",
      "Requirement already satisfied: numpy>=1.17.3 in c:\\users\\hp\\anaconda3\\lib\\site-packages (from opencv-contrib-python) (1.20.1)\n",
      "Note: you may need to restart the kernel to use updated packages.\n"
     ]
    }
   ],
   "source": [
    "pip install opencv-contrib-python"
   ]
  },
  {
   "cell_type": "code",
   "execution_count": 2,
   "id": "47f3249f",
   "metadata": {},
   "outputs": [],
   "source": [
    "import cv2\n",
    "from object_detector import *\n",
    "import numpy as np"
   ]
  },
  {
   "cell_type": "code",
   "execution_count": 3,
   "id": "a0692cac",
   "metadata": {},
   "outputs": [],
   "source": [
    "# Load Aruco detector\n",
    "parameters = cv2.aruco.DetectorParameters_create()\n",
    "aruco_dict = cv2.aruco.Dictionary_get(cv2.aruco.DICT_5X5_50)\n"
   ]
  },
  {
   "cell_type": "code",
   "execution_count": 4,
   "id": "f390162c",
   "metadata": {},
   "outputs": [],
   "source": [
    "# Load Object Detector\n",
    "detector = HomogeneousBgDetector()"
   ]
  },
  {
   "cell_type": "code",
   "execution_count": 5,
   "id": "33c8716c",
   "metadata": {},
   "outputs": [
    {
     "data": {
      "text/plain": [
       "True"
      ]
     },
     "execution_count": 5,
     "metadata": {},
     "output_type": "execute_result"
    }
   ],
   "source": [
    "# Load Cap\n",
    "cap = cv2.VideoCapture(0)\n",
    "cap.set(cv2.CAP_PROP_FRAME_WIDTH, 1280)\n",
    "cap.set(cv2.CAP_PROP_FRAME_HEIGHT, 720)"
   ]
  },
  {
   "cell_type": "code",
   "execution_count": null,
   "id": "798f9356",
   "metadata": {},
   "outputs": [],
   "source": [
    "while True:\n",
    "    _, img = cap.read()\n",
    "\n",
    "    # Get Aruco marker\n",
    "    corners, _, _ = cv2.aruco.detectMarkers(img, aruco_dict, parameters=parameters)\n",
    "    if corners:\n",
    "\n",
    "        # Draw polygon around the marker\n",
    "        int_corners = np.int0(corners)\n",
    "        cv2.polylines(img, int_corners, True, (0, 255, 0), 5)\n",
    "\n",
    "        # Aruco Perimeter\n",
    "        aruco_perimeter = cv2.arcLength(corners[0], True)\n",
    "\n",
    "        # Pixel to cm ratio\n",
    "        pixel_cm_ratio = aruco_perimeter / 20\n",
    "\n",
    "        contours = detector.detect_objects(img)\n",
    "\n",
    "        # Draw objects boundaries\n",
    "        for cnt in contours:\n",
    "            # Get rect\n",
    "            rect = cv2.minAreaRect(cnt)\n",
    "            (x, y), (w, h), angle = rect\n",
    "\n",
    "            # Get Width and Height of the Objects by applying the Ratio pixel to cm\n",
    "            object_width = w / pixel_cm_ratio\n",
    "            object_height = h / pixel_cm_ratio\n",
    "\n",
    "            # Display rectangle\n",
    "            box = cv2.boxPoints(rect)\n",
    "            box = np.int0(box)\n",
    "\n",
    "            cv2.circle(img, (int(x), int(y)), 5, (0, 0, 255), -1)\n",
    "            cv2.polylines(img, [box], True, (255, 0, 0), 2)\n",
    "            cv2.putText(img, \"Width {} cm\".format(round(object_width, 1)), (int(x - 100), int(y - 20)), cv2.FONT_HERSHEY_PLAIN, 2, (100, 200, 0), 2)\n",
    "            cv2.putText(img, \"Height {} cm\".format(round(object_height, 1)), (int(x - 100), int(y + 15)), cv2.FONT_HERSHEY_PLAIN, 2, (100, 200, 0), 2)\n",
    "\n",
    "\n",
    "\n",
    "    cv2.imshow(\"Image\", img)\n",
    "    key = cv2.waitKey(1)\n",
    "    if key == 27:\n",
    "        break\n",
    "\n",
    "cap.release()\n",
    "cv2.destroyAllWindows()"
   ]
  },
  {
   "cell_type": "code",
   "execution_count": null,
   "id": "f5512f65",
   "metadata": {},
   "outputs": [],
   "source": []
  }
 ],
 "metadata": {
  "kernelspec": {
   "display_name": "Python 3",
   "language": "python",
   "name": "python3"
  },
  "language_info": {
   "codemirror_mode": {
    "name": "ipython",
    "version": 3
   },
   "file_extension": ".py",
   "mimetype": "text/x-python",
   "name": "python",
   "nbconvert_exporter": "python",
   "pygments_lexer": "ipython3",
   "version": "3.8.8"
  }
 },
 "nbformat": 4,
 "nbformat_minor": 5
}
