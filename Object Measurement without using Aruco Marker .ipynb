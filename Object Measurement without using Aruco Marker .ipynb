{
 "cells": [
  {
   "cell_type": "code",
   "execution_count": 1,
   "id": "c5740aa0",
   "metadata": {},
   "outputs": [
    {
     "name": "stdout",
     "output_type": "stream",
     "text": [
      "Entering the Python World\n"
     ]
    }
   ],
   "source": [
    "print(\"Entering the Python World\")"
   ]
  },
  {
   "cell_type": "code",
   "execution_count": 2,
   "id": "886ed50b",
   "metadata": {},
   "outputs": [
    {
     "data": {
      "text/plain": [
       "'Ishwar'"
      ]
     },
     "execution_count": 2,
     "metadata": {},
     "output_type": "execute_result"
    }
   ],
   "source": [
    "friend_name = \"Ishwar\"\n",
    "friend_name\n",
    "\n"
   ]
  },
  {
   "cell_type": "code",
   "execution_count": 3,
   "id": "7d3d0500",
   "metadata": {},
   "outputs": [
    {
     "data": {
      "text/plain": [
       "'Hardik'"
      ]
     },
     "execution_count": 3,
     "metadata": {},
     "output_type": "execute_result"
    }
   ],
   "source": [
    "friend_name = \"Hardik\"\n",
    "friend_name\n"
   ]
  },
  {
   "cell_type": "code",
   "execution_count": 4,
   "id": "64b0cd1a",
   "metadata": {},
   "outputs": [
    {
     "data": {
      "text/plain": [
       "5"
      ]
     },
     "execution_count": 4,
     "metadata": {},
     "output_type": "execute_result"
    }
   ],
   "source": [
    "a=5\n",
    "a"
   ]
  },
  {
   "cell_type": "code",
   "execution_count": 5,
   "id": "a01d94db",
   "metadata": {},
   "outputs": [
    {
     "data": {
      "text/plain": [
       "int"
      ]
     },
     "execution_count": 5,
     "metadata": {},
     "output_type": "execute_result"
    }
   ],
   "source": [
    "type(a)"
   ]
  },
  {
   "cell_type": "code",
   "execution_count": 6,
   "id": "8e356304",
   "metadata": {},
   "outputs": [
    {
     "data": {
      "text/plain": [
       "2.3"
      ]
     },
     "execution_count": 6,
     "metadata": {},
     "output_type": "execute_result"
    }
   ],
   "source": [
    "a=2.3\n",
    "a"
   ]
  },
  {
   "cell_type": "code",
   "execution_count": 7,
   "id": "06e0d3e2",
   "metadata": {},
   "outputs": [
    {
     "data": {
      "text/plain": [
       "float"
      ]
     },
     "execution_count": 7,
     "metadata": {},
     "output_type": "execute_result"
    }
   ],
   "source": [
    "type(a)"
   ]
  },
  {
   "cell_type": "code",
   "execution_count": 8,
   "id": "40737fea",
   "metadata": {},
   "outputs": [
    {
     "data": {
      "text/plain": [
       "True"
      ]
     },
     "execution_count": 8,
     "metadata": {},
     "output_type": "execute_result"
    }
   ],
   "source": [
    "a=True\n",
    "a"
   ]
  },
  {
   "cell_type": "code",
   "execution_count": 9,
   "id": "619f9614",
   "metadata": {},
   "outputs": [
    {
     "data": {
      "text/plain": [
       "bool"
      ]
     },
     "execution_count": 9,
     "metadata": {},
     "output_type": "execute_result"
    }
   ],
   "source": [
    "type(a)"
   ]
  },
  {
   "cell_type": "code",
   "execution_count": 10,
   "id": "73a59f4d",
   "metadata": {},
   "outputs": [
    {
     "data": {
      "text/plain": [
       "'hii'"
      ]
     },
     "execution_count": 10,
     "metadata": {},
     "output_type": "execute_result"
    }
   ],
   "source": [
    "a=\"hii\"\n",
    "a"
   ]
  },
  {
   "cell_type": "code",
   "execution_count": 11,
   "id": "d6a3d699",
   "metadata": {},
   "outputs": [
    {
     "data": {
      "text/plain": [
       "str"
      ]
     },
     "execution_count": 11,
     "metadata": {},
     "output_type": "execute_result"
    }
   ],
   "source": [
    "type(a)"
   ]
  },
  {
   "cell_type": "code",
   "execution_count": 12,
   "id": "38aaeb51",
   "metadata": {},
   "outputs": [
    {
     "data": {
      "text/plain": [
       "(2+3j)"
      ]
     },
     "execution_count": 12,
     "metadata": {},
     "output_type": "execute_result"
    }
   ],
   "source": [
    "a=2+3j\n",
    "a"
   ]
  },
  {
   "cell_type": "code",
   "execution_count": 13,
   "id": "f1dae129",
   "metadata": {},
   "outputs": [
    {
     "data": {
      "text/plain": [
       "complex"
      ]
     },
     "execution_count": 13,
     "metadata": {},
     "output_type": "execute_result"
    }
   ],
   "source": [
    "type(a)"
   ]
  },
  {
   "cell_type": "markdown",
   "id": "09a58286",
   "metadata": {},
   "source": [
    "# Arithmatic Operators (+,-,*,/)"
   ]
  },
  {
   "cell_type": "code",
   "execution_count": 14,
   "id": "42831e78",
   "metadata": {},
   "outputs": [],
   "source": [
    "a=10\n",
    "b=2"
   ]
  },
  {
   "cell_type": "code",
   "execution_count": 15,
   "id": "5ff2795a",
   "metadata": {},
   "outputs": [
    {
     "data": {
      "text/plain": [
       "12"
      ]
     },
     "execution_count": 15,
     "metadata": {},
     "output_type": "execute_result"
    }
   ],
   "source": [
    "a+b"
   ]
  },
  {
   "cell_type": "code",
   "execution_count": 16,
   "id": "90991d97",
   "metadata": {},
   "outputs": [
    {
     "data": {
      "text/plain": [
       "8"
      ]
     },
     "execution_count": 16,
     "metadata": {},
     "output_type": "execute_result"
    }
   ],
   "source": [
    "a-b"
   ]
  },
  {
   "cell_type": "code",
   "execution_count": 17,
   "id": "d86b12f8",
   "metadata": {},
   "outputs": [
    {
     "data": {
      "text/plain": [
       "-8"
      ]
     },
     "execution_count": 17,
     "metadata": {},
     "output_type": "execute_result"
    }
   ],
   "source": [
    "b-a"
   ]
  },
  {
   "cell_type": "markdown",
   "id": "bd833cfe",
   "metadata": {},
   "source": [
    "# Relational Operators (<,>,==,!=)"
   ]
  },
  {
   "cell_type": "code",
   "execution_count": 18,
   "id": "eddd88b1",
   "metadata": {},
   "outputs": [],
   "source": [
    "a=1\n",
    "b=9"
   ]
  },
  {
   "cell_type": "code",
   "execution_count": 19,
   "id": "2f6215e6",
   "metadata": {},
   "outputs": [
    {
     "data": {
      "text/plain": [
       "True"
      ]
     },
     "execution_count": 19,
     "metadata": {},
     "output_type": "execute_result"
    }
   ],
   "source": [
    "a<b"
   ]
  },
  {
   "cell_type": "code",
   "execution_count": 20,
   "id": "edd0bf1c",
   "metadata": {},
   "outputs": [
    {
     "data": {
      "text/plain": [
       "False"
      ]
     },
     "execution_count": 20,
     "metadata": {},
     "output_type": "execute_result"
    }
   ],
   "source": [
    "a>b"
   ]
  },
  {
   "cell_type": "code",
   "execution_count": 21,
   "id": "579ae2b9",
   "metadata": {},
   "outputs": [
    {
     "data": {
      "text/plain": [
       "False"
      ]
     },
     "execution_count": 21,
     "metadata": {},
     "output_type": "execute_result"
    }
   ],
   "source": [
    "a==b"
   ]
  },
  {
   "cell_type": "code",
   "execution_count": 22,
   "id": "6e2644ef",
   "metadata": {},
   "outputs": [
    {
     "data": {
      "text/plain": [
       "True"
      ]
     },
     "execution_count": 22,
     "metadata": {},
     "output_type": "execute_result"
    }
   ],
   "source": [
    "a!=b"
   ]
  },
  {
   "cell_type": "markdown",
   "id": "2787692c",
   "metadata": {},
   "source": [
    "# Logical Operators (&)"
   ]
  },
  {
   "cell_type": "code",
   "execution_count": 23,
   "id": "8e861d46",
   "metadata": {},
   "outputs": [],
   "source": [
    "a=True\n",
    "b=False"
   ]
  },
  {
   "cell_type": "code",
   "execution_count": 24,
   "id": "98f79d41",
   "metadata": {},
   "outputs": [
    {
     "data": {
      "text/plain": [
       "False"
      ]
     },
     "execution_count": 24,
     "metadata": {},
     "output_type": "execute_result"
    }
   ],
   "source": [
    "a&b"
   ]
  },
  {
   "cell_type": "code",
   "execution_count": 25,
   "id": "3f6aab1a",
   "metadata": {},
   "outputs": [
    {
     "data": {
      "text/plain": [
       "False"
      ]
     },
     "execution_count": 25,
     "metadata": {},
     "output_type": "execute_result"
    }
   ],
   "source": [
    "b&a"
   ]
  },
  {
   "cell_type": "code",
   "execution_count": 26,
   "id": "584a6ad0",
   "metadata": {},
   "outputs": [
    {
     "data": {
      "text/plain": [
       "True"
      ]
     },
     "execution_count": 26,
     "metadata": {},
     "output_type": "execute_result"
    }
   ],
   "source": [
    "a&a"
   ]
  },
  {
   "cell_type": "code",
   "execution_count": 27,
   "id": "b4e7a3f1",
   "metadata": {},
   "outputs": [
    {
     "data": {
      "text/plain": [
       "False"
      ]
     },
     "execution_count": 27,
     "metadata": {},
     "output_type": "execute_result"
    }
   ],
   "source": [
    "b&b"
   ]
  },
  {
   "cell_type": "code",
   "execution_count": 28,
   "id": "569f41b6",
   "metadata": {},
   "outputs": [
    {
     "data": {
      "text/plain": [
       "True"
      ]
     },
     "execution_count": 28,
     "metadata": {},
     "output_type": "execute_result"
    }
   ],
   "source": [
    "a|b"
   ]
  },
  {
   "cell_type": "code",
   "execution_count": 29,
   "id": "1385631c",
   "metadata": {},
   "outputs": [
    {
     "data": {
      "text/plain": [
       "True"
      ]
     },
     "execution_count": 29,
     "metadata": {},
     "output_type": "execute_result"
    }
   ],
   "source": [
    "a|a"
   ]
  },
  {
   "cell_type": "code",
   "execution_count": 30,
   "id": "77926949",
   "metadata": {},
   "outputs": [
    {
     "data": {
      "text/plain": [
       "True"
      ]
     },
     "execution_count": 30,
     "metadata": {},
     "output_type": "execute_result"
    }
   ],
   "source": [
    "b|a"
   ]
  },
  {
   "cell_type": "code",
   "execution_count": 31,
   "id": "9faad0f2",
   "metadata": {},
   "outputs": [
    {
     "data": {
      "text/plain": [
       "False"
      ]
     },
     "execution_count": 31,
     "metadata": {},
     "output_type": "execute_result"
    }
   ],
   "source": [
    "b|b"
   ]
  },
  {
   "cell_type": "markdown",
   "id": "27fe2c0a",
   "metadata": {},
   "source": [
    "# Keywords (special reserved words which performs special function)"
   ]
  },
  {
   "cell_type": "code",
   "execution_count": 32,
   "id": "8f10ce46",
   "metadata": {},
   "outputs": [
    {
     "data": {
      "text/plain": [
       "True"
      ]
     },
     "execution_count": 32,
     "metadata": {},
     "output_type": "execute_result"
    }
   ],
   "source": [
    "True"
   ]
  },
  {
   "cell_type": "markdown",
   "id": "3d6a5b27",
   "metadata": {},
   "source": [
    "# Identifiers (no special characters except _ ,case sensitive ,first letter can not be digit)"
   ]
  },
  {
   "cell_type": "code",
   "execution_count": 33,
   "id": "86b73a88",
   "metadata": {},
   "outputs": [],
   "source": [
    "Pranay = \"How are you ?\"\n",
    "pranay = \"H\""
   ]
  },
  {
   "cell_type": "code",
   "execution_count": 34,
   "id": "dc3049d0",
   "metadata": {},
   "outputs": [
    {
     "data": {
      "text/plain": [
       "'How are you ?'"
      ]
     },
     "execution_count": 34,
     "metadata": {},
     "output_type": "execute_result"
    }
   ],
   "source": [
    "Pranay"
   ]
  },
  {
   "cell_type": "code",
   "execution_count": 35,
   "id": "8857b8e7",
   "metadata": {},
   "outputs": [
    {
     "data": {
      "text/plain": [
       "'H'"
      ]
     },
     "execution_count": 35,
     "metadata": {},
     "output_type": "execute_result"
    }
   ],
   "source": [
    "pranay"
   ]
  },
  {
   "cell_type": "markdown",
   "id": "aba40d16",
   "metadata": {},
   "source": [
    "# Literals (constants which do not change and constants are stored in variables)"
   ]
  },
  {
   "cell_type": "code",
   "execution_count": 36,
   "id": "6547856c",
   "metadata": {},
   "outputs": [],
   "source": [
    "Q = \"hii\""
   ]
  },
  {
   "cell_type": "code",
   "execution_count": 37,
   "id": "de9ddf50",
   "metadata": {},
   "outputs": [],
   "source": [
    "Q = 100"
   ]
  },
  {
   "cell_type": "code",
   "execution_count": 38,
   "id": "63416da0",
   "metadata": {},
   "outputs": [],
   "source": [
    "Q = False"
   ]
  },
  {
   "cell_type": "markdown",
   "id": "ef95681f",
   "metadata": {},
   "source": [
    "# Strings"
   ]
  },
  {
   "cell_type": "code",
   "execution_count": 39,
   "id": "84b423df",
   "metadata": {},
   "outputs": [],
   "source": [
    "W='Hii pranay'"
   ]
  },
  {
   "cell_type": "code",
   "execution_count": 40,
   "id": "abd4efd0",
   "metadata": {},
   "outputs": [
    {
     "data": {
      "text/plain": [
       "'Hii pranay'"
      ]
     },
     "execution_count": 40,
     "metadata": {},
     "output_type": "execute_result"
    }
   ],
   "source": [
    "W"
   ]
  },
  {
   "cell_type": "code",
   "execution_count": 41,
   "id": "21daeacf",
   "metadata": {},
   "outputs": [
    {
     "data": {
      "text/plain": [
       "str"
      ]
     },
     "execution_count": 41,
     "metadata": {},
     "output_type": "execute_result"
    }
   ],
   "source": [
    "type(W)"
   ]
  },
  {
   "cell_type": "code",
   "execution_count": 42,
   "id": "cc60d5fb",
   "metadata": {},
   "outputs": [],
   "source": [
    "W=\"Hello Pranay\""
   ]
  },
  {
   "cell_type": "code",
   "execution_count": 43,
   "id": "32cc9e0c",
   "metadata": {},
   "outputs": [
    {
     "data": {
      "text/plain": [
       "'Hello Pranay'"
      ]
     },
     "execution_count": 43,
     "metadata": {},
     "output_type": "execute_result"
    }
   ],
   "source": [
    "W"
   ]
  },
  {
   "cell_type": "code",
   "execution_count": 44,
   "id": "8f87b50d",
   "metadata": {},
   "outputs": [
    {
     "data": {
      "text/plain": [
       "str"
      ]
     },
     "execution_count": 44,
     "metadata": {},
     "output_type": "execute_result"
    }
   ],
   "source": [
    "type(W)"
   ]
  },
  {
   "cell_type": "code",
   "execution_count": 45,
   "id": "65635e52",
   "metadata": {},
   "outputs": [],
   "source": [
    "W =''' this is a multiline\n",
    "string\n",
    "'''"
   ]
  },
  {
   "cell_type": "code",
   "execution_count": 46,
   "id": "eee0864a",
   "metadata": {},
   "outputs": [
    {
     "data": {
      "text/plain": [
       "' this is a multiline\\nstring\\n'"
      ]
     },
     "execution_count": 46,
     "metadata": {},
     "output_type": "execute_result"
    }
   ],
   "source": [
    "W"
   ]
  },
  {
   "cell_type": "markdown",
   "id": "056f1c09",
   "metadata": {},
   "source": [
    "# Extracting Characters"
   ]
  },
  {
   "cell_type": "code",
   "execution_count": 47,
   "id": "426580e3",
   "metadata": {},
   "outputs": [],
   "source": [
    "my_string=\"my name is Pranay\""
   ]
  },
  {
   "cell_type": "code",
   "execution_count": 48,
   "id": "31b068ab",
   "metadata": {},
   "outputs": [
    {
     "data": {
      "text/plain": [
       "'m'"
      ]
     },
     "execution_count": 48,
     "metadata": {},
     "output_type": "execute_result"
    }
   ],
   "source": [
    "my_string[0]"
   ]
  },
  {
   "cell_type": "code",
   "execution_count": 49,
   "id": "d4b1e242",
   "metadata": {},
   "outputs": [
    {
     "data": {
      "text/plain": [
       "'a'"
      ]
     },
     "execution_count": 49,
     "metadata": {},
     "output_type": "execute_result"
    }
   ],
   "source": [
    "my_string[-2]"
   ]
  },
  {
   "cell_type": "code",
   "execution_count": 50,
   "id": "56f45eb8",
   "metadata": {},
   "outputs": [
    {
     "data": {
      "text/plain": [
       "'is'"
      ]
     },
     "execution_count": 50,
     "metadata": {},
     "output_type": "execute_result"
    }
   ],
   "source": [
    "my_string[8:10]"
   ]
  },
  {
   "cell_type": "code",
   "execution_count": 51,
   "id": "5af13583",
   "metadata": {},
   "outputs": [
    {
     "data": {
      "text/plain": [
       "'Pranay'"
      ]
     },
     "execution_count": 51,
     "metadata": {},
     "output_type": "execute_result"
    }
   ],
   "source": [
    "my_string[11:18]"
   ]
  },
  {
   "cell_type": "markdown",
   "id": "6c4c0569",
   "metadata": {},
   "source": [
    "# String function"
   ]
  },
  {
   "cell_type": "code",
   "execution_count": 52,
   "id": "0619cc59",
   "metadata": {},
   "outputs": [
    {
     "data": {
      "text/plain": [
       "'my name is Pranay'"
      ]
     },
     "execution_count": 52,
     "metadata": {},
     "output_type": "execute_result"
    }
   ],
   "source": [
    "my_string"
   ]
  },
  {
   "cell_type": "code",
   "execution_count": 53,
   "id": "ae255cd6",
   "metadata": {},
   "outputs": [
    {
     "data": {
      "text/plain": [
       "17"
      ]
     },
     "execution_count": 53,
     "metadata": {},
     "output_type": "execute_result"
    }
   ],
   "source": [
    "len(my_string)"
   ]
  },
  {
   "cell_type": "code",
   "execution_count": 54,
   "id": "e209ecb9",
   "metadata": {},
   "outputs": [
    {
     "data": {
      "text/plain": [
       "'MY NAME IS PRANAY'"
      ]
     },
     "execution_count": 54,
     "metadata": {},
     "output_type": "execute_result"
    }
   ],
   "source": [
    "my_string.upper()"
   ]
  },
  {
   "cell_type": "code",
   "execution_count": 55,
   "id": "624d3b11",
   "metadata": {},
   "outputs": [
    {
     "data": {
      "text/plain": [
       "'my name is pranay'"
      ]
     },
     "execution_count": 55,
     "metadata": {},
     "output_type": "execute_result"
    }
   ],
   "source": [
    "my_string.lower()"
   ]
  },
  {
   "cell_type": "code",
   "execution_count": 56,
   "id": "412a5fa2",
   "metadata": {},
   "outputs": [
    {
     "data": {
      "text/plain": [
       "'my name is P'"
      ]
     },
     "execution_count": 56,
     "metadata": {},
     "output_type": "execute_result"
    }
   ],
   "source": [
    "my_string.replace('Pranay','P')"
   ]
  },
  {
   "cell_type": "code",
   "execution_count": 57,
   "id": "5d9c1cd4",
   "metadata": {},
   "outputs": [],
   "source": [
    "a=(\"hii hii hii hii pranay\")"
   ]
  },
  {
   "cell_type": "code",
   "execution_count": 58,
   "id": "e59bdac9",
   "metadata": {},
   "outputs": [
    {
     "data": {
      "text/plain": [
       "4"
      ]
     },
     "execution_count": 58,
     "metadata": {},
     "output_type": "execute_result"
    }
   ],
   "source": [
    "a.count(\"hii\")"
   ]
  },
  {
   "cell_type": "code",
   "execution_count": 59,
   "id": "03054805",
   "metadata": {},
   "outputs": [
    {
     "data": {
      "text/plain": [
       "1"
      ]
     },
     "execution_count": 59,
     "metadata": {},
     "output_type": "execute_result"
    }
   ],
   "source": [
    "a.count(\"pranay\")"
   ]
  },
  {
   "cell_type": "code",
   "execution_count": 178,
   "id": "db84e996",
   "metadata": {},
   "outputs": [],
   "source": [
    "s1 =(\"this is good\")"
   ]
  },
  {
   "cell_type": "code",
   "execution_count": 179,
   "id": "5ba409dd",
   "metadata": {},
   "outputs": [
    {
     "data": {
      "text/plain": [
       "2"
      ]
     },
     "execution_count": 179,
     "metadata": {},
     "output_type": "execute_result"
    }
   ],
   "source": [
    "s1.find(\"is\")"
   ]
  },
  {
   "cell_type": "code",
   "execution_count": 62,
   "id": "d969827c",
   "metadata": {},
   "outputs": [
    {
     "data": {
      "text/plain": [
       "8"
      ]
     },
     "execution_count": 62,
     "metadata": {},
     "output_type": "execute_result"
    }
   ],
   "source": [
    "s1.find(\"g\")"
   ]
  },
  {
   "cell_type": "code",
   "execution_count": 63,
   "id": "bb2a6da6",
   "metadata": {},
   "outputs": [],
   "source": [
    "s=(\"my name is pranay,ishwar,hardik\")"
   ]
  },
  {
   "cell_type": "code",
   "execution_count": 64,
   "id": "0fe159e0",
   "metadata": {},
   "outputs": [
    {
     "data": {
      "text/plain": [
       "['my name is pranay', 'ishwar', 'hardik']"
      ]
     },
     "execution_count": 64,
     "metadata": {},
     "output_type": "execute_result"
    }
   ],
   "source": [
    "s.split(',')"
   ]
  },
  {
   "cell_type": "code",
   "execution_count": 65,
   "id": "c4e6ae45",
   "metadata": {},
   "outputs": [
    {
     "data": {
      "text/plain": [
       "['my', 'name', 'is', 'pranay,ishwar,hardik']"
      ]
     },
     "execution_count": 65,
     "metadata": {},
     "output_type": "execute_result"
    }
   ],
   "source": [
    "s.split(' ')"
   ]
  },
  {
   "cell_type": "markdown",
   "id": "39d13773",
   "metadata": {},
   "source": [
    "# Tuple"
   ]
  },
  {
   "cell_type": "code",
   "execution_count": 66,
   "id": "c75fb494",
   "metadata": {},
   "outputs": [],
   "source": [
    "my_tuple = (123,\"pranay\",False)"
   ]
  },
  {
   "cell_type": "code",
   "execution_count": 67,
   "id": "25c43b45",
   "metadata": {},
   "outputs": [
    {
     "data": {
      "text/plain": [
       "tuple"
      ]
     },
     "execution_count": 67,
     "metadata": {},
     "output_type": "execute_result"
    }
   ],
   "source": [
    "type(my_tuple)"
   ]
  },
  {
   "cell_type": "code",
   "execution_count": 68,
   "id": "bd9a229b",
   "metadata": {},
   "outputs": [
    {
     "data": {
      "text/plain": [
       "(123, 'pranay', False)"
      ]
     },
     "execution_count": 68,
     "metadata": {},
     "output_type": "execute_result"
    }
   ],
   "source": [
    "my_tuple"
   ]
  },
  {
   "cell_type": "code",
   "execution_count": 69,
   "id": "617101f0",
   "metadata": {},
   "outputs": [
    {
     "data": {
      "text/plain": [
       "'pranay'"
      ]
     },
     "execution_count": 69,
     "metadata": {},
     "output_type": "execute_result"
    }
   ],
   "source": [
    "my_tuple[1]"
   ]
  },
  {
   "cell_type": "code",
   "execution_count": 70,
   "id": "7109eee9",
   "metadata": {},
   "outputs": [
    {
     "data": {
      "text/plain": [
       "(123, 'pranay')"
      ]
     },
     "execution_count": 70,
     "metadata": {},
     "output_type": "execute_result"
    }
   ],
   "source": [
    "my_tuple[0:2]"
   ]
  },
  {
   "cell_type": "code",
   "execution_count": 71,
   "id": "f4226759",
   "metadata": {},
   "outputs": [
    {
     "data": {
      "text/plain": [
       "(123,)"
      ]
     },
     "execution_count": 71,
     "metadata": {},
     "output_type": "execute_result"
    }
   ],
   "source": [
    "my_tuple[0:1]"
   ]
  },
  {
   "cell_type": "code",
   "execution_count": 72,
   "id": "666fcd94",
   "metadata": {},
   "outputs": [
    {
     "data": {
      "text/plain": [
       "3"
      ]
     },
     "execution_count": 72,
     "metadata": {},
     "output_type": "execute_result"
    }
   ],
   "source": [
    "len(my_tuple)"
   ]
  },
  {
   "cell_type": "code",
   "execution_count": 73,
   "id": "d8bbfeb9",
   "metadata": {},
   "outputs": [],
   "source": [
    "tup1=(10,11,12)\n",
    "tup2=(1,2,3)"
   ]
  },
  {
   "cell_type": "code",
   "execution_count": 74,
   "id": "5976507b",
   "metadata": {},
   "outputs": [
    {
     "data": {
      "text/plain": [
       "(10, 11, 12, 1, 2, 3)"
      ]
     },
     "execution_count": 74,
     "metadata": {},
     "output_type": "execute_result"
    }
   ],
   "source": [
    "tup1+tup2"
   ]
  },
  {
   "cell_type": "code",
   "execution_count": 75,
   "id": "051010ce",
   "metadata": {},
   "outputs": [],
   "source": [
    "tup1=(10,'a',True)\n",
    "tup2=(1,False)"
   ]
  },
  {
   "cell_type": "code",
   "execution_count": 76,
   "id": "9b389d5f",
   "metadata": {},
   "outputs": [
    {
     "data": {
      "text/plain": [
       "(10, 'a', True, 1, False)"
      ]
     },
     "execution_count": 76,
     "metadata": {},
     "output_type": "execute_result"
    }
   ],
   "source": [
    "tup1+tup2"
   ]
  },
  {
   "cell_type": "code",
   "execution_count": 77,
   "id": "273363c9",
   "metadata": {},
   "outputs": [
    {
     "data": {
      "text/plain": [
       "(1, False, 10, 'a', True)"
      ]
     },
     "execution_count": 77,
     "metadata": {},
     "output_type": "execute_result"
    }
   ],
   "source": [
    "tup2+tup1"
   ]
  },
  {
   "cell_type": "code",
   "execution_count": 78,
   "id": "2bc3074a",
   "metadata": {},
   "outputs": [],
   "source": [
    "tup1=(2,False)"
   ]
  },
  {
   "cell_type": "code",
   "execution_count": 79,
   "id": "f7921f44",
   "metadata": {},
   "outputs": [
    {
     "data": {
      "text/plain": [
       "(2, False, 2, False, 2, False, 2, False, 2, False)"
      ]
     },
     "execution_count": 79,
     "metadata": {},
     "output_type": "execute_result"
    }
   ],
   "source": [
    "tup1*5"
   ]
  },
  {
   "cell_type": "code",
   "execution_count": 80,
   "id": "6a437530",
   "metadata": {},
   "outputs": [],
   "source": [
    "tup2=(\"a\",\"b\")"
   ]
  },
  {
   "cell_type": "code",
   "execution_count": 81,
   "id": "f1917586",
   "metadata": {},
   "outputs": [
    {
     "data": {
      "text/plain": [
       "(2,\n",
       " False,\n",
       " 2,\n",
       " False,\n",
       " 2,\n",
       " False,\n",
       " 2,\n",
       " False,\n",
       " 'a',\n",
       " 'b',\n",
       " 'a',\n",
       " 'b',\n",
       " 'a',\n",
       " 'b',\n",
       " 'a',\n",
       " 'b',\n",
       " 'a',\n",
       " 'b')"
      ]
     },
     "execution_count": 81,
     "metadata": {},
     "output_type": "execute_result"
    }
   ],
   "source": [
    "tup1*4 +tup2*5"
   ]
  },
  {
   "cell_type": "code",
   "execution_count": 82,
   "id": "43c51ee8",
   "metadata": {},
   "outputs": [],
   "source": [
    "tup1=(12,4,98,-11,65)"
   ]
  },
  {
   "cell_type": "code",
   "execution_count": 83,
   "id": "bb2cfbf4",
   "metadata": {},
   "outputs": [
    {
     "data": {
      "text/plain": [
       "-11"
      ]
     },
     "execution_count": 83,
     "metadata": {},
     "output_type": "execute_result"
    }
   ],
   "source": [
    "min(tup1)"
   ]
  },
  {
   "cell_type": "code",
   "execution_count": 84,
   "id": "dc5f93b5",
   "metadata": {},
   "outputs": [
    {
     "data": {
      "text/plain": [
       "98"
      ]
     },
     "execution_count": 84,
     "metadata": {},
     "output_type": "execute_result"
    }
   ],
   "source": [
    "max(tup1)"
   ]
  },
  {
   "cell_type": "markdown",
   "id": "3a7fd29f",
   "metadata": {},
   "source": [
    "# List"
   ]
  },
  {
   "cell_type": "code",
   "execution_count": 180,
   "id": "6f228aa4",
   "metadata": {},
   "outputs": [],
   "source": [
    "l1=[2,\"hii\",True,3+2j]"
   ]
  },
  {
   "cell_type": "code",
   "execution_count": 86,
   "id": "129157ec",
   "metadata": {},
   "outputs": [
    {
     "data": {
      "text/plain": [
       "[2, 'hii', True, (3+2j)]"
      ]
     },
     "execution_count": 86,
     "metadata": {},
     "output_type": "execute_result"
    }
   ],
   "source": [
    "l1"
   ]
  },
  {
   "cell_type": "code",
   "execution_count": 87,
   "id": "63626656",
   "metadata": {},
   "outputs": [
    {
     "data": {
      "text/plain": [
       "list"
      ]
     },
     "execution_count": 87,
     "metadata": {},
     "output_type": "execute_result"
    }
   ],
   "source": [
    "type(l1)"
   ]
  },
  {
   "cell_type": "markdown",
   "id": "2813384a",
   "metadata": {},
   "source": [
    "# Extracting Elements in list"
   ]
  },
  {
   "cell_type": "code",
   "execution_count": 88,
   "id": "ff9655bb",
   "metadata": {},
   "outputs": [
    {
     "data": {
      "text/plain": [
       "True"
      ]
     },
     "execution_count": 88,
     "metadata": {},
     "output_type": "execute_result"
    }
   ],
   "source": [
    "l1[2]"
   ]
  },
  {
   "cell_type": "code",
   "execution_count": 89,
   "id": "4add269e",
   "metadata": {},
   "outputs": [
    {
     "data": {
      "text/plain": [
       "(3+2j)"
      ]
     },
     "execution_count": 89,
     "metadata": {},
     "output_type": "execute_result"
    }
   ],
   "source": [
    "l1[3]"
   ]
  },
  {
   "cell_type": "code",
   "execution_count": 90,
   "id": "e2ac191c",
   "metadata": {},
   "outputs": [
    {
     "data": {
      "text/plain": [
       "['hii', True]"
      ]
     },
     "execution_count": 90,
     "metadata": {},
     "output_type": "execute_result"
    }
   ],
   "source": [
    "l1[1:3]"
   ]
  },
  {
   "cell_type": "markdown",
   "id": "b974f9f7",
   "metadata": {},
   "source": [
    "# Modification of List"
   ]
  },
  {
   "cell_type": "code",
   "execution_count": 91,
   "id": "8ef2e3b8",
   "metadata": {},
   "outputs": [
    {
     "data": {
      "text/plain": [
       "[2, 'hii', True, (3+2j)]"
      ]
     },
     "execution_count": 91,
     "metadata": {},
     "output_type": "execute_result"
    }
   ],
   "source": [
    "l1"
   ]
  },
  {
   "cell_type": "code",
   "execution_count": 92,
   "id": "17d4aeb0",
   "metadata": {},
   "outputs": [],
   "source": [
    "l1[1]=\"hello\""
   ]
  },
  {
   "cell_type": "code",
   "execution_count": 93,
   "id": "17f04aaa",
   "metadata": {},
   "outputs": [
    {
     "data": {
      "text/plain": [
       "[2, 'hello', True, (3+2j)]"
      ]
     },
     "execution_count": 93,
     "metadata": {},
     "output_type": "execute_result"
    }
   ],
   "source": [
    "l1"
   ]
  },
  {
   "cell_type": "code",
   "execution_count": 94,
   "id": "7cab952e",
   "metadata": {},
   "outputs": [],
   "source": [
    "l1.append(\"hii pranay\")"
   ]
  },
  {
   "cell_type": "code",
   "execution_count": 95,
   "id": "96e0b2df",
   "metadata": {},
   "outputs": [
    {
     "data": {
      "text/plain": [
       "[2, 'hello', True, (3+2j), 'hii pranay']"
      ]
     },
     "execution_count": 95,
     "metadata": {},
     "output_type": "execute_result"
    }
   ],
   "source": [
    "l1"
   ]
  },
  {
   "cell_type": "code",
   "execution_count": 96,
   "id": "8089c378",
   "metadata": {},
   "outputs": [
    {
     "data": {
      "text/plain": [
       "'hii pranay'"
      ]
     },
     "execution_count": 96,
     "metadata": {},
     "output_type": "execute_result"
    }
   ],
   "source": [
    "l1.pop(4)"
   ]
  },
  {
   "cell_type": "code",
   "execution_count": 97,
   "id": "fc3aa8e7",
   "metadata": {},
   "outputs": [
    {
     "data": {
      "text/plain": [
       "(3+2j)"
      ]
     },
     "execution_count": 97,
     "metadata": {},
     "output_type": "execute_result"
    }
   ],
   "source": [
    "l1.pop()"
   ]
  },
  {
   "cell_type": "code",
   "execution_count": 98,
   "id": "656012ca",
   "metadata": {},
   "outputs": [
    {
     "data": {
      "text/plain": [
       "[2, 'hello', True]"
      ]
     },
     "execution_count": 98,
     "metadata": {},
     "output_type": "execute_result"
    }
   ],
   "source": [
    "l1"
   ]
  },
  {
   "cell_type": "code",
   "execution_count": 99,
   "id": "dd71048d",
   "metadata": {},
   "outputs": [
    {
     "data": {
      "text/plain": [
       "True"
      ]
     },
     "execution_count": 99,
     "metadata": {},
     "output_type": "execute_result"
    }
   ],
   "source": [
    "l1.pop()"
   ]
  },
  {
   "cell_type": "code",
   "execution_count": 100,
   "id": "43ddebf1",
   "metadata": {},
   "outputs": [
    {
     "data": {
      "text/plain": [
       "[2, 'hello']"
      ]
     },
     "execution_count": 100,
     "metadata": {},
     "output_type": "execute_result"
    }
   ],
   "source": [
    "l1"
   ]
  },
  {
   "cell_type": "code",
   "execution_count": 101,
   "id": "32f835ac",
   "metadata": {},
   "outputs": [],
   "source": [
    "l1.append(True)"
   ]
  },
  {
   "cell_type": "code",
   "execution_count": 102,
   "id": "568dfe89",
   "metadata": {},
   "outputs": [
    {
     "data": {
      "text/plain": [
       "[2, 'hello', True]"
      ]
     },
     "execution_count": 102,
     "metadata": {},
     "output_type": "execute_result"
    }
   ],
   "source": [
    "l1"
   ]
  },
  {
   "cell_type": "code",
   "execution_count": 103,
   "id": "6d8d90d3",
   "metadata": {},
   "outputs": [
    {
     "data": {
      "text/plain": [
       "True"
      ]
     },
     "execution_count": 103,
     "metadata": {},
     "output_type": "execute_result"
    }
   ],
   "source": [
    "l1.pop()"
   ]
  },
  {
   "cell_type": "code",
   "execution_count": 104,
   "id": "690594cc",
   "metadata": {},
   "outputs": [
    {
     "data": {
      "text/plain": [
       "[2, 'hello']"
      ]
     },
     "execution_count": 104,
     "metadata": {},
     "output_type": "execute_result"
    }
   ],
   "source": [
    "l1"
   ]
  },
  {
   "cell_type": "markdown",
   "id": "a21711e9",
   "metadata": {},
   "source": [
    "# Reverse a list"
   ]
  },
  {
   "cell_type": "code",
   "execution_count": 105,
   "id": "5a14e3d9",
   "metadata": {},
   "outputs": [],
   "source": [
    "l1=[1,\"Leo\",False]"
   ]
  },
  {
   "cell_type": "code",
   "execution_count": 106,
   "id": "54e3bbba",
   "metadata": {},
   "outputs": [
    {
     "data": {
      "text/plain": [
       "[1, 'Leo', False]"
      ]
     },
     "execution_count": 106,
     "metadata": {},
     "output_type": "execute_result"
    }
   ],
   "source": [
    "l1"
   ]
  },
  {
   "cell_type": "code",
   "execution_count": 107,
   "id": "27bf3861",
   "metadata": {},
   "outputs": [],
   "source": [
    "l1.reverse()"
   ]
  },
  {
   "cell_type": "code",
   "execution_count": 108,
   "id": "2ec2dab6",
   "metadata": {},
   "outputs": [
    {
     "data": {
      "text/plain": [
       "[False, 'Leo', 1]"
      ]
     },
     "execution_count": 108,
     "metadata": {},
     "output_type": "execute_result"
    }
   ],
   "source": [
    "l1"
   ]
  },
  {
   "cell_type": "markdown",
   "id": "7a0bc076",
   "metadata": {},
   "source": [
    "# Sorting"
   ]
  },
  {
   "cell_type": "code",
   "execution_count": 109,
   "id": "e5bcac6f",
   "metadata": {},
   "outputs": [],
   "source": [
    "l1=[\"Sam\",\"Leo\",\"Xerox\",\"Ayush\"]"
   ]
  },
  {
   "cell_type": "code",
   "execution_count": 110,
   "id": "e57acf9b",
   "metadata": {},
   "outputs": [],
   "source": [
    "l1.sort()"
   ]
  },
  {
   "cell_type": "code",
   "execution_count": 111,
   "id": "09218201",
   "metadata": {},
   "outputs": [
    {
     "data": {
      "text/plain": [
       "['Ayush', 'Leo', 'Sam', 'Xerox']"
      ]
     },
     "execution_count": 111,
     "metadata": {},
     "output_type": "execute_result"
    }
   ],
   "source": [
    "l1"
   ]
  },
  {
   "cell_type": "code",
   "execution_count": 112,
   "id": "f31e0f54",
   "metadata": {},
   "outputs": [],
   "source": [
    "l1.insert(0,\"Lion\")"
   ]
  },
  {
   "cell_type": "code",
   "execution_count": 113,
   "id": "66e491a8",
   "metadata": {},
   "outputs": [
    {
     "data": {
      "text/plain": [
       "['Lion', 'Ayush', 'Leo', 'Sam', 'Xerox']"
      ]
     },
     "execution_count": 113,
     "metadata": {},
     "output_type": "execute_result"
    }
   ],
   "source": [
    "l1"
   ]
  },
  {
   "cell_type": "code",
   "execution_count": 114,
   "id": "80cec3d8",
   "metadata": {},
   "outputs": [],
   "source": [
    "l1.insert(2,1)"
   ]
  },
  {
   "cell_type": "code",
   "execution_count": 115,
   "id": "c85c823e",
   "metadata": {},
   "outputs": [
    {
     "data": {
      "text/plain": [
       "['Lion', 'Ayush', 1, 'Leo', 'Sam', 'Xerox']"
      ]
     },
     "execution_count": 115,
     "metadata": {},
     "output_type": "execute_result"
    }
   ],
   "source": [
    "l1"
   ]
  },
  {
   "cell_type": "code",
   "execution_count": 116,
   "id": "465de7dd",
   "metadata": {},
   "outputs": [],
   "source": [
    "l1.append(\"Leo\")"
   ]
  },
  {
   "cell_type": "code",
   "execution_count": 117,
   "id": "47e2121b",
   "metadata": {},
   "outputs": [
    {
     "data": {
      "text/plain": [
       "['Lion', 'Ayush', 1, 'Leo', 'Sam', 'Xerox', 'Leo']"
      ]
     },
     "execution_count": 117,
     "metadata": {},
     "output_type": "execute_result"
    }
   ],
   "source": [
    "l1"
   ]
  },
  {
   "cell_type": "code",
   "execution_count": 118,
   "id": "ce55899d",
   "metadata": {},
   "outputs": [
    {
     "data": {
      "text/plain": [
       "'Leo'"
      ]
     },
     "execution_count": 118,
     "metadata": {},
     "output_type": "execute_result"
    }
   ],
   "source": [
    "l1.pop()"
   ]
  },
  {
   "cell_type": "markdown",
   "id": "36de4d49",
   "metadata": {},
   "source": [
    "# Replacing element in List"
   ]
  },
  {
   "cell_type": "code",
   "execution_count": 119,
   "id": "5a8de41b",
   "metadata": {},
   "outputs": [
    {
     "data": {
      "text/plain": [
       "['Lion', 'Ayush', 1, 'Leo', 'Sam', 'Xerox']"
      ]
     },
     "execution_count": 119,
     "metadata": {},
     "output_type": "execute_result"
    }
   ],
   "source": [
    "l1"
   ]
  },
  {
   "cell_type": "code",
   "execution_count": 120,
   "id": "06a7eb8e",
   "metadata": {},
   "outputs": [],
   "source": [
    "l1[0]=0"
   ]
  },
  {
   "cell_type": "code",
   "execution_count": 121,
   "id": "69cb426c",
   "metadata": {},
   "outputs": [
    {
     "data": {
      "text/plain": [
       "[0, 'Ayush', 1, 'Leo', 'Sam', 'Xerox']"
      ]
     },
     "execution_count": 121,
     "metadata": {},
     "output_type": "execute_result"
    }
   ],
   "source": [
    "l1"
   ]
  },
  {
   "cell_type": "markdown",
   "id": "e7fba8ae",
   "metadata": {},
   "source": [
    "# Concatenating List"
   ]
  },
  {
   "cell_type": "code",
   "execution_count": 122,
   "id": "ab75fb32",
   "metadata": {},
   "outputs": [],
   "source": [
    "l1=[1,23,4]\n",
    "l2=[45,3,0]"
   ]
  },
  {
   "cell_type": "code",
   "execution_count": 123,
   "id": "77bbd183",
   "metadata": {},
   "outputs": [
    {
     "data": {
      "text/plain": [
       "[1, 23, 4, 45, 3, 0]"
      ]
     },
     "execution_count": 123,
     "metadata": {},
     "output_type": "execute_result"
    }
   ],
   "source": [
    "l1+l2"
   ]
  },
  {
   "cell_type": "code",
   "execution_count": 124,
   "id": "055a1a47",
   "metadata": {},
   "outputs": [
    {
     "data": {
      "text/plain": [
       "[45, 3, 0, 1, 23, 4]"
      ]
     },
     "execution_count": 124,
     "metadata": {},
     "output_type": "execute_result"
    }
   ],
   "source": [
    "l2+l1"
   ]
  },
  {
   "cell_type": "code",
   "execution_count": 125,
   "id": "0756e7bf",
   "metadata": {},
   "outputs": [
    {
     "data": {
      "text/plain": [
       "[1, 23, 4, 1, 23, 4]"
      ]
     },
     "execution_count": 125,
     "metadata": {},
     "output_type": "execute_result"
    }
   ],
   "source": [
    "l1*2"
   ]
  },
  {
   "cell_type": "code",
   "execution_count": 126,
   "id": "b38cd9d0",
   "metadata": {},
   "outputs": [
    {
     "data": {
      "text/plain": [
       "[45, 3, 0, 45, 3, 0, 45, 3, 0, 45, 3, 0, 45, 3, 0, 45, 3, 0, 45, 3, 0]"
      ]
     },
     "execution_count": 126,
     "metadata": {},
     "output_type": "execute_result"
    }
   ],
   "source": [
    "l2*7"
   ]
  },
  {
   "cell_type": "code",
   "execution_count": 127,
   "id": "44723761",
   "metadata": {},
   "outputs": [
    {
     "data": {
      "text/plain": [
       "[1, 23, 4, 1, 23, 4, 1, 23, 4, 45, 3, 0, 45, 3, 0]"
      ]
     },
     "execution_count": 127,
     "metadata": {},
     "output_type": "execute_result"
    }
   ],
   "source": [
    "l1*3 +l2*2"
   ]
  },
  {
   "cell_type": "markdown",
   "id": "4053c8df",
   "metadata": {},
   "source": [
    "# Dictionary (unordered collection of Key-value pairs enclosed with {} )"
   ]
  },
  {
   "cell_type": "code",
   "execution_count": 128,
   "id": "574cd24e",
   "metadata": {},
   "outputs": [],
   "source": [
    "fruits={\"banana\":30,\"gauva\":40,\"dragonfruit\":70}"
   ]
  },
  {
   "cell_type": "code",
   "execution_count": 129,
   "id": "3d13e261",
   "metadata": {},
   "outputs": [
    {
     "data": {
      "text/plain": [
       "dict"
      ]
     },
     "execution_count": 129,
     "metadata": {},
     "output_type": "execute_result"
    }
   ],
   "source": [
    "type(fruits)"
   ]
  },
  {
   "cell_type": "markdown",
   "id": "2c8588d8",
   "metadata": {},
   "source": [
    "# Extracting elements in Dictionary"
   ]
  },
  {
   "cell_type": "code",
   "execution_count": 130,
   "id": "ce7bf0e3",
   "metadata": {},
   "outputs": [
    {
     "data": {
      "text/plain": [
       "dict_keys(['banana', 'gauva', 'dragonfruit'])"
      ]
     },
     "execution_count": 130,
     "metadata": {},
     "output_type": "execute_result"
    }
   ],
   "source": [
    "fruits.keys()"
   ]
  },
  {
   "cell_type": "code",
   "execution_count": 131,
   "id": "170ded8a",
   "metadata": {},
   "outputs": [
    {
     "data": {
      "text/plain": [
       "dict_values([30, 40, 70])"
      ]
     },
     "execution_count": 131,
     "metadata": {},
     "output_type": "execute_result"
    }
   ],
   "source": [
    "fruits.values()"
   ]
  },
  {
   "cell_type": "code",
   "execution_count": 132,
   "id": "8d08aea8",
   "metadata": {},
   "outputs": [
    {
     "data": {
      "text/plain": [
       "dict_items([('banana', 30), ('gauva', 40), ('dragonfruit', 70)])"
      ]
     },
     "execution_count": 132,
     "metadata": {},
     "output_type": "execute_result"
    }
   ],
   "source": [
    "fruits.items()"
   ]
  },
  {
   "cell_type": "markdown",
   "id": "3aecfb18",
   "metadata": {},
   "source": [
    "# Modifying Dictionary"
   ]
  },
  {
   "cell_type": "code",
   "execution_count": 133,
   "id": "c00358e7",
   "metadata": {},
   "outputs": [
    {
     "data": {
      "text/plain": [
       "{'banana': 30, 'gauva': 40, 'dragonfruit': 70}"
      ]
     },
     "execution_count": 133,
     "metadata": {},
     "output_type": "execute_result"
    }
   ],
   "source": [
    "fruits"
   ]
  },
  {
   "cell_type": "code",
   "execution_count": 134,
   "id": "abfcd98c",
   "metadata": {},
   "outputs": [],
   "source": [
    "fruits[\"apple\"]=50"
   ]
  },
  {
   "cell_type": "code",
   "execution_count": 135,
   "id": "99eea6be",
   "metadata": {},
   "outputs": [
    {
     "data": {
      "text/plain": [
       "{'banana': 30, 'gauva': 40, 'dragonfruit': 70, 'apple': 50}"
      ]
     },
     "execution_count": 135,
     "metadata": {},
     "output_type": "execute_result"
    }
   ],
   "source": [
    "fruits"
   ]
  },
  {
   "cell_type": "code",
   "execution_count": 136,
   "id": "b22346b2",
   "metadata": {},
   "outputs": [],
   "source": [
    "fruits[\"dragonfruit\"]=80"
   ]
  },
  {
   "cell_type": "code",
   "execution_count": 137,
   "id": "dfc00fe7",
   "metadata": {},
   "outputs": [
    {
     "data": {
      "text/plain": [
       "{'banana': 30, 'gauva': 40, 'dragonfruit': 80, 'apple': 50}"
      ]
     },
     "execution_count": 137,
     "metadata": {},
     "output_type": "execute_result"
    }
   ],
   "source": [
    "fruits"
   ]
  },
  {
   "cell_type": "markdown",
   "id": "bb5e96b0",
   "metadata": {},
   "source": [
    "# Dictionary Functions"
   ]
  },
  {
   "cell_type": "code",
   "execution_count": 138,
   "id": "22f57750",
   "metadata": {},
   "outputs": [],
   "source": [
    "fruit1={\"gauva\":40,\"lichi\":50}\n",
    "fruit2={\"apple\":60,\"mango\":100}"
   ]
  },
  {
   "cell_type": "code",
   "execution_count": 139,
   "id": "ab2622ce",
   "metadata": {},
   "outputs": [],
   "source": [
    "fruit1.update(fruit2)"
   ]
  },
  {
   "cell_type": "code",
   "execution_count": 140,
   "id": "d85ae8b2",
   "metadata": {},
   "outputs": [
    {
     "data": {
      "text/plain": [
       "{'gauva': 40, 'lichi': 50, 'apple': 60, 'mango': 100}"
      ]
     },
     "execution_count": 140,
     "metadata": {},
     "output_type": "execute_result"
    }
   ],
   "source": [
    "fruit1"
   ]
  },
  {
   "cell_type": "code",
   "execution_count": 141,
   "id": "d690299f",
   "metadata": {},
   "outputs": [],
   "source": [
    "fruit1={\"gauva\":40,\"lichi\":50}\n",
    "fruit2={\"apple\":60,\"mango\":100}"
   ]
  },
  {
   "cell_type": "code",
   "execution_count": 142,
   "id": "f22dc7f7",
   "metadata": {},
   "outputs": [],
   "source": [
    "fruit2.update(fruit1)"
   ]
  },
  {
   "cell_type": "code",
   "execution_count": 143,
   "id": "b553864f",
   "metadata": {},
   "outputs": [
    {
     "data": {
      "text/plain": [
       "{'apple': 60, 'mango': 100, 'gauva': 40, 'lichi': 50}"
      ]
     },
     "execution_count": 143,
     "metadata": {},
     "output_type": "execute_result"
    }
   ],
   "source": [
    "fruit2"
   ]
  },
  {
   "cell_type": "code",
   "execution_count": 144,
   "id": "e015d33d",
   "metadata": {},
   "outputs": [],
   "source": [
    "fruit1={\"gauva\":40,\"lichi\":50}\n",
    "fruit2={\"apple\":60,\"mango\":100}"
   ]
  },
  {
   "cell_type": "code",
   "execution_count": 145,
   "id": "d54fdedf",
   "metadata": {},
   "outputs": [
    {
     "data": {
      "text/plain": [
       "40"
      ]
     },
     "execution_count": 145,
     "metadata": {},
     "output_type": "execute_result"
    }
   ],
   "source": [
    "fruit1.pop(\"gauva\")"
   ]
  },
  {
   "cell_type": "code",
   "execution_count": 146,
   "id": "b648ee59",
   "metadata": {},
   "outputs": [
    {
     "data": {
      "text/plain": [
       "{'lichi': 50}"
      ]
     },
     "execution_count": 146,
     "metadata": {},
     "output_type": "execute_result"
    }
   ],
   "source": [
    "fruit1"
   ]
  },
  {
   "cell_type": "markdown",
   "id": "1a408ae1",
   "metadata": {},
   "source": [
    "# Set (unordered and unindexed collection of elements enclosed in {})"
   ]
  },
  {
   "cell_type": "code",
   "execution_count": 147,
   "id": "c26ff080",
   "metadata": {},
   "outputs": [],
   "source": [
    "s1={12,\"hii\",\"hii\",True}"
   ]
  },
  {
   "cell_type": "code",
   "execution_count": 148,
   "id": "6abba968",
   "metadata": {},
   "outputs": [
    {
     "data": {
      "text/plain": [
       "{12, True, 'hii'}"
      ]
     },
     "execution_count": 148,
     "metadata": {},
     "output_type": "execute_result"
    }
   ],
   "source": [
    "s1"
   ]
  },
  {
   "cell_type": "markdown",
   "id": "564ade17",
   "metadata": {},
   "source": [
    "# Set Operations"
   ]
  },
  {
   "cell_type": "code",
   "execution_count": 149,
   "id": "5629df98",
   "metadata": {},
   "outputs": [
    {
     "data": {
      "text/plain": [
       "{12, True, 'hii'}"
      ]
     },
     "execution_count": 149,
     "metadata": {},
     "output_type": "execute_result"
    }
   ],
   "source": [
    "s1"
   ]
  },
  {
   "cell_type": "code",
   "execution_count": 150,
   "id": "a1ee7461",
   "metadata": {},
   "outputs": [],
   "source": [
    "s1.add(11)"
   ]
  },
  {
   "cell_type": "code",
   "execution_count": 151,
   "id": "9e73e7de",
   "metadata": {},
   "outputs": [
    {
     "data": {
      "text/plain": [
       "{11, 12, True, 'hii'}"
      ]
     },
     "execution_count": 151,
     "metadata": {},
     "output_type": "execute_result"
    }
   ],
   "source": [
    "s1"
   ]
  },
  {
   "cell_type": "code",
   "execution_count": 152,
   "id": "254f3e27",
   "metadata": {},
   "outputs": [],
   "source": [
    "s1.add(\"hello\")"
   ]
  },
  {
   "cell_type": "code",
   "execution_count": 153,
   "id": "dd201d5e",
   "metadata": {},
   "outputs": [
    {
     "data": {
      "text/plain": [
       "{11, 12, True, 'hello', 'hii'}"
      ]
     },
     "execution_count": 153,
     "metadata": {},
     "output_type": "execute_result"
    }
   ],
   "source": [
    "s1"
   ]
  },
  {
   "cell_type": "code",
   "execution_count": 154,
   "id": "ba06be7c",
   "metadata": {},
   "outputs": [],
   "source": [
    "s1.update([4,2,3])"
   ]
  },
  {
   "cell_type": "code",
   "execution_count": 155,
   "id": "b4a747ab",
   "metadata": {},
   "outputs": [
    {
     "data": {
      "text/plain": [
       "{11, 12, 2, 3, 4, True, 'hello', 'hii'}"
      ]
     },
     "execution_count": 155,
     "metadata": {},
     "output_type": "execute_result"
    }
   ],
   "source": [
    "s1"
   ]
  },
  {
   "cell_type": "code",
   "execution_count": 156,
   "id": "e34f3ff3",
   "metadata": {},
   "outputs": [],
   "source": [
    "s1.remove(2)"
   ]
  },
  {
   "cell_type": "code",
   "execution_count": 157,
   "id": "c62590b2",
   "metadata": {},
   "outputs": [
    {
     "data": {
      "text/plain": [
       "{11, 12, 3, 4, True, 'hello', 'hii'}"
      ]
     },
     "execution_count": 157,
     "metadata": {},
     "output_type": "execute_result"
    }
   ],
   "source": [
    "s1"
   ]
  },
  {
   "cell_type": "markdown",
   "id": "e7b754ab",
   "metadata": {},
   "source": [
    "# Union and Intersection of Sets"
   ]
  },
  {
   "cell_type": "code",
   "execution_count": 158,
   "id": "d3b7b755",
   "metadata": {},
   "outputs": [],
   "source": [
    "s1={11,12,\"hello\",False}\n",
    "s2={True,False,13,\"hii\"}"
   ]
  },
  {
   "cell_type": "code",
   "execution_count": 159,
   "id": "2b3bdb1f",
   "metadata": {},
   "outputs": [
    {
     "data": {
      "text/plain": [
       "{11, 12, 13, False, True, 'hello', 'hii'}"
      ]
     },
     "execution_count": 159,
     "metadata": {},
     "output_type": "execute_result"
    }
   ],
   "source": [
    "s1.union(s2)"
   ]
  },
  {
   "cell_type": "code",
   "execution_count": 160,
   "id": "6f6db5f2",
   "metadata": {},
   "outputs": [
    {
     "data": {
      "text/plain": [
       "{False}"
      ]
     },
     "execution_count": 160,
     "metadata": {},
     "output_type": "execute_result"
    }
   ],
   "source": [
    "s1.intersection(s2)"
   ]
  },
  {
   "cell_type": "markdown",
   "id": "e9061864",
   "metadata": {},
   "source": [
    "# if Statement"
   ]
  },
  {
   "cell_type": "code",
   "execution_count": 161,
   "id": "4afab501",
   "metadata": {},
   "outputs": [],
   "source": [
    "a=1\n",
    "b=6"
   ]
  },
  {
   "cell_type": "code",
   "execution_count": 162,
   "id": "9382e5e1",
   "metadata": {},
   "outputs": [],
   "source": [
    "if(a>b):\n",
    "    print(\"a is greater\")"
   ]
  },
  {
   "cell_type": "code",
   "execution_count": 163,
   "id": "9c71da57",
   "metadata": {},
   "outputs": [
    {
     "name": "stdout",
     "output_type": "stream",
     "text": [
      "a is smaller\n"
     ]
    }
   ],
   "source": [
    "if(a<b):\n",
    "    print(\"a is smaller\")"
   ]
  },
  {
   "cell_type": "markdown",
   "id": "858ff52a",
   "metadata": {},
   "source": [
    "# else Statement"
   ]
  },
  {
   "cell_type": "code",
   "execution_count": 164,
   "id": "df7a170c",
   "metadata": {},
   "outputs": [],
   "source": [
    "a=23\n",
    "b=12"
   ]
  },
  {
   "cell_type": "code",
   "execution_count": 165,
   "id": "63e51b99",
   "metadata": {},
   "outputs": [
    {
     "name": "stdout",
     "output_type": "stream",
     "text": [
      "b is greater\n"
     ]
    }
   ],
   "source": [
    "if(a<b):\n",
    "    print(\"a is greater\")\n",
    "else:\n",
    "    print(\"b is greater\")"
   ]
  },
  {
   "cell_type": "markdown",
   "id": "f8f733e3",
   "metadata": {},
   "source": [
    "# elif Statement"
   ]
  },
  {
   "cell_type": "code",
   "execution_count": 166,
   "id": "0c623bcd",
   "metadata": {},
   "outputs": [],
   "source": [
    "a=10\n",
    "b=12\n",
    "c=14"
   ]
  },
  {
   "cell_type": "code",
   "execution_count": 167,
   "id": "26fa6c40",
   "metadata": {},
   "outputs": [
    {
     "name": "stdout",
     "output_type": "stream",
     "text": [
      "c is greatest\n"
     ]
    }
   ],
   "source": [
    "if(a>b & a>c):\n",
    "    print(\"a is greatest\")\n",
    "elif(b>a & b>c):\n",
    "    print(\"b is greatest\")\n",
    "else:\n",
    "    print(\"c is greatest\")"
   ]
  },
  {
   "cell_type": "markdown",
   "id": "9af98df9",
   "metadata": {},
   "source": [
    "# if statement with Tuple"
   ]
  },
  {
   "cell_type": "code",
   "execution_count": 168,
   "id": "c7eaef00",
   "metadata": {},
   "outputs": [],
   "source": [
    "tup1=(11,22,33,44)"
   ]
  },
  {
   "cell_type": "code",
   "execution_count": 169,
   "id": "4d22761b",
   "metadata": {},
   "outputs": [
    {
     "name": "stdout",
     "output_type": "stream",
     "text": [
      "12 is not present in tup1\n"
     ]
    }
   ],
   "source": [
    "if 12 in tup1:\n",
    "    print(\"12 is present in tup1\")\n",
    "else:\n",
    "    print(\"12 is not present in tup1\")"
   ]
  },
  {
   "cell_type": "markdown",
   "id": "f361d17e",
   "metadata": {},
   "source": [
    "# if statement with List"
   ]
  },
  {
   "cell_type": "code",
   "execution_count": 170,
   "id": "91781ee3",
   "metadata": {},
   "outputs": [],
   "source": [
    "l1=[1,2,3]"
   ]
  },
  {
   "cell_type": "code",
   "execution_count": 171,
   "id": "3cbcac5f",
   "metadata": {},
   "outputs": [],
   "source": [
    "if(l1[0]==1):\n",
    "    l1[0]=l1[0]+50"
   ]
  },
  {
   "cell_type": "code",
   "execution_count": 172,
   "id": "59736001",
   "metadata": {},
   "outputs": [
    {
     "data": {
      "text/plain": [
       "[51, 2, 3]"
      ]
     },
     "execution_count": 172,
     "metadata": {},
     "output_type": "execute_result"
    }
   ],
   "source": [
    "l1"
   ]
  },
  {
   "cell_type": "code",
   "execution_count": 173,
   "id": "c592e15d",
   "metadata": {},
   "outputs": [],
   "source": [
    "if(l1[1]==1):\n",
    "    l1[1]=l1[1]+100\n",
    "else:\n",
    "    l1[1]=4"
   ]
  },
  {
   "cell_type": "code",
   "execution_count": 174,
   "id": "a68406a4",
   "metadata": {},
   "outputs": [
    {
     "data": {
      "text/plain": [
       "[51, 4, 3]"
      ]
     },
     "execution_count": 174,
     "metadata": {},
     "output_type": "execute_result"
    }
   ],
   "source": [
    "l1"
   ]
  },
  {
   "cell_type": "markdown",
   "id": "6e3c365a",
   "metadata": {},
   "source": [
    "# if statement with Dictionary"
   ]
  },
  {
   "cell_type": "code",
   "execution_count": 175,
   "id": "117dfc95",
   "metadata": {},
   "outputs": [],
   "source": [
    "d1={\"a\":10,\"b\":15,\"c\":20,\"e\":25}"
   ]
  },
  {
   "cell_type": "code",
   "execution_count": 176,
   "id": "cdeffbfc",
   "metadata": {},
   "outputs": [],
   "source": [
    "if(d1[\"a\"]==25):\n",
    "    d1[\"a\"]=15\n",
    "else:\n",
    "    d1[\"a\"]=d1[\"a\"]+20"
   ]
  },
  {
   "cell_type": "code",
   "execution_count": 177,
   "id": "17ee0621",
   "metadata": {},
   "outputs": [
    {
     "data": {
      "text/plain": [
       "{'a': 30, 'b': 15, 'c': 20, 'e': 25}"
      ]
     },
     "execution_count": 177,
     "metadata": {},
     "output_type": "execute_result"
    }
   ],
   "source": [
    "d1"
   ]
  }
 ],
 "metadata": {
  "kernelspec": {
   "display_name": "Python 3",
   "language": "python",
   "name": "python3"
  },
  "language_info": {
   "codemirror_mode": {
    "name": "ipython",
    "version": 3
   },
   "file_extension": ".py",
   "mimetype": "text/x-python",
   "name": "python",
   "nbconvert_exporter": "python",
   "pygments_lexer": "ipython3",
   "version": "3.8.8"
  }
 },
 "nbformat": 4,
 "nbformat_minor": 5
}
